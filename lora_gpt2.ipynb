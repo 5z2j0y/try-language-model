{
 "cells": [
  {
   "cell_type": "markdown",
   "metadata": {},
   "source": [
    "## 测试gpt-generate"
   ]
  },
  {
   "cell_type": "code",
   "execution_count": null,
   "metadata": {},
   "outputs": [],
   "source": [
    "from transformers import GPT2LMHeadModel, GPT2Tokenizer\n",
    "import torch, os\n",
    "\n",
    "# 使用你的 Hugging Face 令牌\n",
    "HF_TOKEN = os.environ.get('HF_TOKEN')\n",
    "if not HF_TOKEN:\n",
    "    raise ValueError(\"Please set the HF_TOKEN environment variable\")\n",
    "\n",
    "# 加载模型和分词器\n",
    "model_name = \"openai-community/gpt2-medium\"\n",
    "tokenizer = GPT2Tokenizer.from_pretrained(model_name, use_auth_token=HF_TOKEN)\n",
    "model = GPT2LMHeadModel.from_pretrained(model_name, use_auth_token=HF_TOKEN)\n",
    "\n",
    "# 生成文本\n",
    "print(\"Generating text...\", end=\"\\n\\n------------------\\n\\n\")\n",
    "input_text = \"What's the capital of China.\"\n",
    "input_ids = tokenizer.encode(input_text, return_tensors='pt')\n",
    "\n",
    "# 设置生成参数\n",
    "max_length = 50\n",
    "num_return_sequences = 1\n",
    "\n",
    "# 生成文本\n",
    "with torch.no_grad():\n",
    "    output = model.generate(input_ids, max_length=max_length, num_return_sequences=num_return_sequences)\n",
    "\n",
    "# 解码生成的文本并按句子分行\n",
    "generated_text = tokenizer.decode(output[0], skip_special_tokens=True)\n",
    "sentences = generated_text.split('.')\n",
    "formatted_text = '.\\n\\n'.join(sentence.strip() for sentence in sentences if sentence.strip())\n",
    "print(formatted_text + '.')"
   ]
  },
  {
   "cell_type": "markdown",
   "metadata": {},
   "source": [
    "## LORA微调: 第一层：幽默微调"
   ]
  },
  {
   "cell_type": "markdown",
   "metadata": {},
   "source": [
    "### 📌 Step 1: 安装依赖项"
   ]
  },
  {
   "cell_type": "code",
   "execution_count": 2,
   "metadata": {},
   "outputs": [
    {
     "name": "stdout",
     "output_type": "stream",
     "text": [
      "Note: you may need to restart the kernel to use updated packages.\n"
     ]
    },
    {
     "name": "stderr",
     "output_type": "stream",
     "text": [
      "d:\\pycharm\\myPrograms\\pythonProject\\venv\\Lib\\site-packages\\tqdm\\auto.py:21: TqdmWarning: IProgress not found. Please update jupyter and ipywidgets. See https://ipywidgets.readthedocs.io/en/stable/user_install.html\n",
      "  from .autonotebook import tqdm as notebook_tqdm\n"
     ]
    },
    {
     "name": "stdout",
     "output_type": "stream",
     "text": [
      "WARNING:tensorflow:From d:\\pycharm\\myPrograms\\pythonProject\\venv\\Lib\\site-packages\\tf_keras\\src\\losses.py:2976: The name tf.losses.sparse_softmax_cross_entropy is deprecated. Please use tf.compat.v1.losses.sparse_softmax_cross_entropy instead.\n",
      "\n"
     ]
    }
   ],
   "source": [
    "%pip install -q transformers peft datasets accelerate torch tf-keras\n",
    "\n",
    "import torch\n",
    "from transformers import AutoModelForCausalLM, AutoTokenizer\n",
    "from peft import get_peft_model, LoraConfig, TaskType\n",
    "from datasets import load_dataset\n",
    "from transformers import TrainingArguments, Trainer\n",
    "import os"
   ]
  },
  {
   "cell_type": "markdown",
   "metadata": {},
   "source": [
    "### 📌 Step 2: 加载 GPT-2-Medium 和 Tokenizer"
   ]
  },
  {
   "cell_type": "code",
   "execution_count": 3,
   "metadata": {},
   "outputs": [
    {
     "name": "stdout",
     "output_type": "stream",
     "text": [
      "Using device: cpu\n"
     ]
    },
    {
     "name": "stderr",
     "output_type": "stream",
     "text": [
      "d:\\pycharm\\myPrograms\\pythonProject\\venv\\Lib\\site-packages\\huggingface_hub\\file_download.py:140: UserWarning: `huggingface_hub` cache-system uses symlinks by default to efficiently store duplicated files but your machine does not support them in E:\\HuggingFace\\Transformers_CACHE\\hub\\models--gpt2-medium. Caching files will still work but in a degraded version that might require more space on your disk. This warning can be disabled by setting the `HF_HUB_DISABLE_SYMLINKS_WARNING` environment variable. For more details, see https://huggingface.co/docs/huggingface_hub/how-to-cache#limitations.\n",
      "To support symlinks on Windows, you either need to activate Developer Mode or to run Python as an administrator. In order to activate developer mode, see this article: https://docs.microsoft.com/en-us/windows/apps/get-started/enable-your-device-for-development\n",
      "  warnings.warn(message)\n"
     ]
    },
    {
     "name": "stdout",
     "output_type": "stream",
     "text": [
      "Tokenized Input: {'input_ids': tensor([[15496,    11,   703,   389,   345,  1909,    30]]), 'attention_mask': tensor([[1, 1, 1, 1, 1, 1, 1]])}\n"
     ]
    }
   ],
   "source": [
    "# 确保 CUDA 可用\n",
    "device = \"cuda\" if torch.cuda.is_available() else \"cpu\"\n",
    "print(f\"Using device: {device}\")\n",
    "\n",
    "model_name = \"gpt2-medium\"\n",
    "# model = AutoModelForCausalLM.from_pretrained(model_name).to(device)\n",
    "tokenizer = AutoTokenizer.from_pretrained(model_name)\n",
    "\n",
    "# 测试 tokenizer 是否正常工作\n",
    "text = \"Hello, how are you today?\"\n",
    "tokens = tokenizer(text, return_tensors=\"pt\").to(device)\n",
    "print(\"Tokenized Input:\", tokens)"
   ]
  },
  {
   "cell_type": "markdown",
   "metadata": {},
   "source": [
    "### 📌 Step 3: 加载数据集并进行 Tokenization"
   ]
  },
  {
   "cell_type": "code",
   "execution_count": null,
   "metadata": {},
   "outputs": [],
   "source": [
    "dataset = load_dataset(\"text\", data_files={\"train\": \"humor.txt\"})\n",
    "\n",
    "def tokenize_function(examples):\n",
    "    return tokenizer(examples[\"text\"], truncation=True, padding=\"longest\", max_length=128)\n",
    "\n",
    "tokenized_datasets = dataset.map(tokenize_function, batched=True)"
   ]
  },
  {
   "cell_type": "markdown",
   "metadata": {},
   "source": [
    "### 📌 Step 4: 配置 LoRA 并冻结 GPT-2 其他参数"
   ]
  },
  {
   "cell_type": "code",
   "execution_count": null,
   "metadata": {},
   "outputs": [],
   "source": [
    "peft_config = LoraConfig(\n",
    "    task_type=TaskType.CAUSAL_LM,  # 自回归语言模型\n",
    "    r=16,\n",
    "    lora_alpha=32,\n",
    "    lora_dropout=0.1,\n",
    "    target_modules=[\"c_attn\", \"c_proj\"],\n",
    ")\n",
    "model = get_peft_model(model, peft_config)\n",
    "model.print_trainable_parameters()\n"
   ]
  },
  {
   "cell_type": "markdown",
   "metadata": {},
   "source": [
    "### 📌 Step 5: 训练前检查"
   ]
  },
  {
   "cell_type": "code",
   "execution_count": null,
   "metadata": {},
   "outputs": [],
   "source": [
    "def count_trainable_parameters(model):\n",
    "    return sum(p.numel() for p in model.parameters() if p.requires_grad)\n",
    "\n",
    "print(f\"Total trainable parameters: {count_trainable_parameters(model)}\")"
   ]
  },
  {
   "cell_type": "markdown",
   "metadata": {},
   "source": [
    "### 📌 Step 6: 训练 GPT-2-Medium + LoRA"
   ]
  },
  {
   "cell_type": "code",
   "execution_count": null,
   "metadata": {},
   "outputs": [],
   "source": [
    "training_args = TrainingArguments(\n",
    "    output_dir=\"./gpt2_lora_output\",\n",
    "    per_device_train_batch_size=4,\n",
    "    num_train_epochs=3,\n",
    "    save_strategy=\"epoch\",\n",
    "    logging_dir=\"./logs\",\n",
    "    logging_steps=10,\n",
    "    report_to=\"none\",\n",
    "    fp16=True if torch.cuda.is_available() else False,\n",
    ")\n",
    "\n",
    "trainer = Trainer(\n",
    "    model=model,\n",
    "    args=training_args,\n",
    "    train_dataset=tokenized_datasets[\"train\"],\n",
    ")\n",
    "\n",
    "trainer.train()"
   ]
  },
  {
   "cell_type": "markdown",
   "metadata": {},
   "source": [
    "### 📌 Step 7: 保存和测试微调后的模型"
   ]
  },
  {
   "cell_type": "code",
   "execution_count": null,
   "metadata": {},
   "outputs": [],
   "source": [
    "output_dir = \"./gpt2_lora_finetuned\"\n",
    "os.makedirs(output_dir, exist_ok=True)\n",
    "model.save_pretrained(output_dir)\n",
    "tokenizer.save_pretrained(output_dir)\n",
    "\n",
    "# 生成测试示例\n",
    "input_text = \"Once upon a time\"\n",
    "input_ids = tokenizer(input_text, return_tensors=\"pt\").to(device)\n",
    "output = model.generate(**input_ids, max_length=100)\n",
    "generated_text = tokenizer.decode(output[0], skip_special_tokens=True)\n",
    "print(\"Generated Text:\")\n",
    "print(generated_text)"
   ]
  },
  {
   "cell_type": "markdown",
   "metadata": {},
   "source": [
    "### 📌 Step 8: 测试幽默效果"
   ]
  },
  {
   "cell_type": "code",
   "execution_count": null,
   "metadata": {},
   "outputs": [],
   "source": [
    "from peft import PeftModel\n",
    "from transformers import pipeline\n",
    "\n",
    "# 加载 GPT-2 + 幽默 LoRA\n",
    "model = AutoModelForCausalLM.from_pretrained(\"gpt2-medium\")\n",
    "model = PeftModel.from_pretrained(model, \"humor_lora\")\n",
    "tokenizer = AutoTokenizer.from_pretrained(\"gpt2-medium\")\n",
    "\n",
    "# 生成幽默文本\n",
    "text_gen = pipeline(\"text-generation\", model=model, tokenizer=tokenizer)\n",
    "print(text_gen(\"Once upon a time, a robot tried to tell a joke...\", max_length=50))\n"
   ]
  },
  {
   "cell_type": "markdown",
   "metadata": {},
   "source": [
    "### 📌 Step 9: 幽默指令微调"
   ]
  },
  {
   "cell_type": "code",
   "execution_count": null,
   "metadata": {},
   "outputs": [],
   "source": [
    "# 1️⃣ 加载幽默 LoRA\n",
    "model = AutoModelForCausalLM.from_pretrained(\"gpt2-medium\")\n",
    "model = PeftModel.from_pretrained(model, \"humor_lora\")\n",
    "\n",
    "# 2️⃣ 加载幽默指令数据集\n",
    "dataset = load_dataset(\"json\", data_files={\"train\": \"funny_instructions.jsonl\"})\n",
    "\n",
    "def tokenize_function(examples):\n",
    "    return tokenizer(examples[\"instruction\"] + \"\\n\" + examples[\"response\"], padding=\"max_length\", truncation=True)\n",
    "\n",
    "tokenized_datasets = dataset.map(tokenize_function, batched=True)\n",
    "\n",
    "# 3️⃣ 配置 LoRA\n",
    "config = LoraConfig(\n",
    "    task_type=TaskType.CAUSAL_LM, \n",
    "    r=16, lora_alpha=32, lora_dropout=0.1\n",
    ")\n",
    "model = get_peft_model(model, config)\n",
    "\n",
    "# 4️⃣ 训练幽默指令 LoRA\n",
    "training_args = TrainingArguments(\n",
    "    output_dir=\"./funny_lora\",\n",
    "    per_device_train_batch_size=4,\n",
    "    num_train_epochs=3,\n",
    "    logging_dir=\"./logs\",\n",
    "    save_strategy=\"epoch\"\n",
    ")\n",
    "\n",
    "trainer = Trainer(\n",
    "    model=model,\n",
    "    args=training_args,\n",
    "    train_dataset=tokenized_datasets[\"train\"]\n",
    ")\n",
    "trainer.train()\n",
    "\n",
    "# 5️⃣ 保存幽默指令 LoRA\n",
    "model.save_pretrained(\"funny_lora\")\n"
   ]
  },
  {
   "cell_type": "markdown",
   "metadata": {},
   "source": [
    "### 📌 合并幽默 LoRA + 指令 LoRA"
   ]
  },
  {
   "cell_type": "code",
   "execution_count": null,
   "metadata": {},
   "outputs": [],
   "source": [
    "from peft import PeftModel\n",
    "\n",
    "# 加载 GPT-2 并合并幽默 & 指令 LoRA\n",
    "model = AutoModelForCausalLM.from_pretrained(\"gpt2-medium\")\n",
    "model = PeftModel.from_pretrained(model, \"funny_lora\")\n",
    "\n",
    "# 生成幽默回答\n",
    "text_gen = pipeline(\"text-generation\", model=model, tokenizer=tokenizer)\n",
    "print(text_gen(\"Tell me a joke about AI.\", max_length=50))\n"
   ]
  }
 ],
 "metadata": {
  "kernelspec": {
   "display_name": "venv",
   "language": "python",
   "name": "python3"
  },
  "language_info": {
   "codemirror_mode": {
    "name": "ipython",
    "version": 3
   },
   "file_extension": ".py",
   "mimetype": "text/x-python",
   "name": "python",
   "nbconvert_exporter": "python",
   "pygments_lexer": "ipython3",
   "version": "3.12.0"
  }
 },
 "nbformat": 4,
 "nbformat_minor": 2
}
